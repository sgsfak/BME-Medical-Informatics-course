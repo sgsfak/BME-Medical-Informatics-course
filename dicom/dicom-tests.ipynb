{
 "cells": [
  {
   "cell_type": "code",
   "execution_count": 2,
   "metadata": {},
   "outputs": [
    {
     "name": "stdout",
     "output_type": "stream",
     "text": [
      "Requirement already satisfied: pydicom in /Users/ssfak/miniconda3/envs/py3k/lib/python3.8/site-packages (2.1.2)\r\n",
      "Requirement already satisfied: pynetdicom in /Users/ssfak/miniconda3/envs/py3k/lib/python3.8/site-packages (1.5.7)\r\n"
     ]
    }
   ],
   "source": [
    "!pip install pydicom pynetdicom"
   ]
  },
  {
   "cell_type": "code",
   "execution_count": 9,
   "metadata": {},
   "outputs": [],
   "source": [
    "import pydicom\n",
    "from pydicom.dataset import Dataset\n",
    "\n",
    "from pynetdicom import AE\n",
    "from pynetdicom.status import Status"
   ]
  },
  {
   "cell_type": "code",
   "execution_count": 31,
   "metadata": {},
   "outputs": [
    {
     "data": {
      "text/plain": [
       "(0008, 0020) Study Date                          DA: '20061219'"
      ]
     },
     "execution_count": 31,
     "metadata": {},
     "output_type": "execute_result"
    }
   ],
   "source": [
    "from pydicom.data import get_testdata_file\n",
    "filename = \"brain.dcm\"\n",
    "ds = pydicom.dcmread(filename)\n",
    "ds[(0x0008, 0x0020)]"
   ]
  },
  {
   "cell_type": "code",
   "execution_count": 32,
   "metadata": {},
   "outputs": [
    {
     "name": "stdout",
     "output_type": "stream",
     "text": [
      "Single^Brain\n",
      "Single^Brain\n"
     ]
    }
   ],
   "source": [
    "print(ds.PatientName)\n",
    "print(ds[0x10,0x10].value)"
   ]
  },
  {
   "cell_type": "markdown",
   "metadata": {},
   "source": [
    "## C-ECHO"
   ]
  },
  {
   "cell_type": "code",
   "execution_count": 43,
   "metadata": {},
   "outputs": [
    {
     "name": "stdout",
     "output_type": "stream",
     "text": [
      "0\n",
      "0\n"
     ]
    }
   ],
   "source": [
    "ae = AE(ae_title=\"BMEVIEWER\")\n",
    "ae.add_requested_context('1.2.840.10008.1.1')\n",
    "assoc = ae.associate('bme-course.duckdns.org', 4242)\n",
    "status = assoc.send_c_echo()\n",
    "print(Status.SUCCESS.value)\n",
    "print(status.Status)"
   ]
  },
  {
   "cell_type": "markdown",
   "metadata": {},
   "source": [
    "## C-FIND"
   ]
  },
  {
   "cell_type": "code",
   "execution_count": 92,
   "metadata": {},
   "outputs": [
    {
     "name": "stdout",
     "output_type": "stream",
     "text": [
      "C-FIND query status: 0xFF00 Single^Coronary 0106\n",
      "C-FIND query status: 0xFF00 Single^Brain 0105\n",
      "C-FIND query status: 0xFF00 Single^Neck 0104\n",
      "C-FIND query status: 0xFF00 Single^CardiacCalcium 0101\n",
      "C-FIND query status: 0xFF00 Single^Chest LUL Mass 0102\n",
      "C-FIND query status: 0x0000  \n"
     ]
    }
   ],
   "source": [
    "from pynetdicom.sop_class import PatientRootQueryRetrieveInformationModelFind\n",
    "# Create our Identifier (query) dataset\n",
    "ds = Dataset()\n",
    "ds.PatientName = 'Single*' # Find all patients with surname like 'Single..'\n",
    "ds.PatientID = ''\n",
    "ds.PatientBirthDate = ''\n",
    "ds.QueryRetrieveLevel = 'PATIENT'\n",
    "\n",
    "ae = AE(ae_title='BMEVIEWER')\n",
    "ae.add_requested_context(PatientRootQueryRetrieveInformationModelFind)\n",
    "\n",
    "results = []\n",
    "\n",
    "assoc = ae.associate('bme-course.duckdns.org', 4242)\n",
    "if assoc.is_established:\n",
    "    # Send the C-FIND request\n",
    "    responses = assoc.send_c_find(ds, PatientRootQueryRetrieveInformationModelFind)\n",
    "    for (status, ds) in responses:\n",
    "        if status:\n",
    "            print('C-FIND query status: 0x{0:04X} {1} {2}'.format(status.Status, ds and ds.PatientName or '', ds and ds.PatientID or ''))\n",
    "            results.append(ds)\n",
    "        else:\n",
    "            print('Connection timed out, was aborted or received invalid response')\n",
    "\n",
    "    # Release the association\n",
    "    assoc.release()\n",
    "else:\n",
    "    print('Association rejected, aborted or never connected')"
   ]
  },
  {
   "cell_type": "code",
   "execution_count": 93,
   "metadata": {},
   "outputs": [
    {
     "data": {
      "text/plain": [
       "(0008, 0005) Specific Character Set              CS: 'ISO_IR 100'\n",
       "(0008, 0052) Query/Retrieve Level                CS: 'PATIENT'\n",
       "(0008, 0054) Retrieve AE Title                   AE: 'ORTHANC'\n",
       "(0010, 0010) Patient's Name                      PN: 'Single^Coronary'\n",
       "(0010, 0020) Patient ID                          LO: '0106'\n",
       "(0010, 0030) Patient's Birth Date                DA: '19500704'"
      ]
     },
     "execution_count": 93,
     "metadata": {},
     "output_type": "execute_result"
    }
   ],
   "source": [
    "results[0]"
   ]
  },
  {
   "cell_type": "code",
   "execution_count": 94,
   "metadata": {},
   "outputs": [
    {
     "name": "stdout",
     "output_type": "stream",
     "text": [
      "C-FIND query status: 0xFF00\n"
     ]
    }
   ],
   "source": [
    "ds = Dataset()\n",
    "ds.PatientID = results[0].PatientID\n",
    "ds.StudyDate = ''\n",
    "ds.StudyInstanceUID=''\n",
    "ds.QueryRetrieveLevel = 'STUDY'\n",
    "\n",
    "ae = AE(ae_title='BMEVIEWER')\n",
    "ae.add_requested_context(PatientRootQueryRetrieveInformationModelFind)\n",
    "\n",
    "# results = []\n",
    "\n",
    "assoc = ae.associate('bme-course.duckdns.org', 4242)\n",
    "if assoc.is_established:\n",
    "    # Send the C-FIND request\n",
    "    responses = assoc.send_c_find(ds, PatientRootQueryRetrieveInformationModelFind)\n",
    "    for (status, ds) in responses:\n",
    "        if status:\n",
    "            print('C-FIND query status: 0x{0:04X}'.format(status.Status))\n",
    "#             results.append(ds)\n",
    "            break\n",
    "        else:\n",
    "            print('Connection timed out, was aborted or received invalid response')\n",
    "\n",
    "    # Release the association\n",
    "    assoc.release()\n",
    "else:\n",
    "    print('Association rejected, aborted or never connected')"
   ]
  },
  {
   "cell_type": "code",
   "execution_count": 96,
   "metadata": {},
   "outputs": [
    {
     "data": {
      "text/plain": [
       "(0008, 0005) Specific Character Set              CS: 'ISO_IR 100'\n",
       "(0008, 0020) Study Date                          DA: '20061219'\n",
       "(0008, 0052) Query/Retrieve Level                CS: 'STUDY'\n",
       "(0008, 0054) Retrieve AE Title                   AE: 'ORTHANC'\n",
       "(0010, 0020) Patient ID                          LO: '0106'\n",
       "(0020, 000d) Study Instance UID                  UI: 1.3.6.1.4.1.5962.1.2.106.1166562673.14401"
      ]
     },
     "execution_count": 96,
     "metadata": {},
     "output_type": "execute_result"
    }
   ],
   "source": [
    "ds"
   ]
  },
  {
   "cell_type": "code",
   "execution_count": 104,
   "metadata": {},
   "outputs": [
    {
     "name": "stdout",
     "output_type": "stream",
     "text": [
      "C-FIND query status: 0xFF00\n",
      "C-FIND query status: 0x0000\n"
     ]
    }
   ],
   "source": [
    "from pynetdicom.sop_class import StudyRootQueryRetrieveInformationModelFind\n",
    "ds = Dataset()\n",
    "ds.SeriesInstanceUID = ''\n",
    "ds.PatientID = '0106'\n",
    "ds.StudyInstanceUID='1.3.6.1.4.1.5962.1.2.106.1166562673.14401'\n",
    "ds.QueryRetrieveLevel = 'SERIES'\n",
    "\n",
    "ae = AE(ae_title='BMEVIEWER')\n",
    "ae.add_requested_context(StudyRootQueryRetrieveInformationModelFind)\n",
    "\n",
    "series = []\n",
    "\n",
    "assoc = ae.associate('bme-course.duckdns.org', 4242)\n",
    "if assoc.is_established:\n",
    "    # Send the C-FIND request\n",
    "    responses = assoc.send_c_find(ds, StudyRootQueryRetrieveInformationModelFind)\n",
    "    for (status, ds) in responses:\n",
    "        if status:\n",
    "            print('C-FIND query status: 0x{0:04X}'.format(status.Status))\n",
    "            series.append(ds)\n",
    "        else:\n",
    "            print('Connection timed out, was aborted or received invalid response')\n",
    "\n",
    "    # Release the association\n",
    "    assoc.release()\n",
    "else:\n",
    "    print('Association rejected, aborted or never connected')"
   ]
  },
  {
   "cell_type": "code",
   "execution_count": 106,
   "metadata": {},
   "outputs": [
    {
     "data": {
      "text/plain": [
       "(0008, 0005) Specific Character Set              CS: 'ISO_IR 100'\n",
       "(0008, 0052) Query/Retrieve Level                CS: 'SERIES'\n",
       "(0008, 0054) Retrieve AE Title                   AE: 'ORTHANC'\n",
       "(0010, 0020) Patient ID                          LO: '0106'\n",
       "(0020, 000d) Study Instance UID                  UI: 1.3.6.1.4.1.5962.1.2.106.1166562673.14401\n",
       "(0020, 000e) Series Instance UID                 UI: 1.3.6.1.4.1.5962.1.3.106.1.1166562673.14401"
      ]
     },
     "execution_count": 106,
     "metadata": {},
     "output_type": "execute_result"
    }
   ],
   "source": [
    "series[0]"
   ]
  },
  {
   "cell_type": "code",
   "execution_count": 110,
   "metadata": {},
   "outputs": [
    {
     "name": "stdout",
     "output_type": "stream",
     "text": [
      "C-FIND query status: 0xFF00\n",
      "C-FIND query status: 0x0000\n"
     ]
    }
   ],
   "source": [
    "ds = Dataset()\n",
    "ds.SeriesInstanceUID= series[0].SeriesInstanceUID\n",
    "ds.QueryRetrieveLevel = 'IMAGE'\n",
    "ds.SOPInstanceUID = ''\n",
    "ds.Columns= ''\n",
    "ds.Modality=''\n",
    "ds.Rows= ''\n",
    "\n",
    "ae = AE(ae_title='BMEVIEWER')\n",
    "ae.add_requested_context(PatientRootQueryRetrieveInformationModelFind)\n",
    "\n",
    "images = []\n",
    "\n",
    "assoc = ae.associate('bme-course.duckdns.org', 4242)\n",
    "if assoc.is_established:\n",
    "    # Send the C-FIND request\n",
    "    responses = assoc.send_c_find(ds, PatientRootQueryRetrieveInformationModelFind)\n",
    "    for (status, ds) in responses:\n",
    "        if status:\n",
    "            print('C-FIND query status: 0x{0:04X}'.format(status.Status))\n",
    "            images.append(ds)\n",
    "        else:\n",
    "            print('Connection timed out, was aborted or received invalid response')\n",
    "\n",
    "    # Release the association\n",
    "    assoc.release()\n",
    "else:\n",
    "    print('Association rejected, aborted or never connected')"
   ]
  },
  {
   "cell_type": "code",
   "execution_count": 111,
   "metadata": {},
   "outputs": [
    {
     "data": {
      "text/plain": [
       "(0008, 0005) Specific Character Set              CS: 'ISO_IR 100'\n",
       "(0008, 0018) SOP Instance UID                    UI: 1.3.6.1.4.1.5962.1.1.106.1.1.1166562673.14401\n",
       "(0008, 0052) Query/Retrieve Level                CS: 'IMAGE'\n",
       "(0008, 0054) Retrieve AE Title                   AE: 'ORTHANC'\n",
       "(0008, 0060) Modality                            CS: 'CT'\n",
       "(0020, 000e) Series Instance UID                 UI: 1.3.6.1.4.1.5962.1.3.106.1.1166562673.14401\n",
       "(0028, 0010) Rows                                US: 512\n",
       "(0028, 0011) Columns                             US: 512"
      ]
     },
     "execution_count": 111,
     "metadata": {},
     "output_type": "execute_result"
    }
   ],
   "source": [
    "images[0]"
   ]
  },
  {
   "cell_type": "markdown",
   "metadata": {},
   "source": [
    "## C-GET"
   ]
  },
  {
   "cell_type": "code",
   "execution_count": 116,
   "metadata": {},
   "outputs": [
    {
     "name": "stderr",
     "output_type": "stream",
     "text": [
      "I: Requesting Association\n",
      "D: Request Parameters:\n",
      "D: ======================= OUTGOING A-ASSOCIATE-RQ PDU ========================\n",
      "D: Our Implementation Class UID:      1.2.826.0.1.3680043.9.3811.1.5.7\n",
      "D: Our Implementation Version Name:   PYNETDICOM_157\n",
      "D: Application Context Name:    1.2.840.10008.3.1.1.1\n",
      "D: Calling Application Name:    BMEVIEWER       \n",
      "D: Called Application Name:     ANY-SCP         \n",
      "D: Our Max PDU Receive Size:    16382\n",
      "D: Presentation Contexts:\n",
      "D:   Context ID:        1 (Proposed)\n",
      "D:     Abstract Syntax: =Patient Root Query/Retrieve Information Model - GET\n",
      "D:     Proposed SCP/SCU Role: Default\n",
      "D:     Proposed Transfer Syntaxes:\n",
      "D:       =Implicit VR Little Endian\n",
      "D:       =Explicit VR Little Endian\n",
      "D:       =Deflated Explicit VR Little Endian\n",
      "D:       =Explicit VR Big Endian\n",
      "D:   Context ID:        3 (Proposed)\n",
      "D:     Abstract Syntax: =Enhanced CT Image Storage\n",
      "D:     Proposed SCP/SCU Role: SCP\n",
      "D:     Proposed Transfer Syntaxes:\n",
      "D:       =Implicit VR Little Endian\n",
      "D:       =Explicit VR Little Endian\n",
      "D:       =Deflated Explicit VR Little Endian\n",
      "D:       =Explicit VR Big Endian\n",
      "D: Requested Extended Negotiation: None\n",
      "D: Requested Common Extended Negotiation: None\n",
      "D: Requested Asynchronous Operations Window Negotiation: None\n",
      "D: Requested User Identity Negotiation: None\n",
      "D: ========================== END A-ASSOCIATE-RQ PDU ==========================\n",
      "D: Accept Parameters:\n",
      "D: ======================= INCOMING A-ASSOCIATE-AC PDU ========================\n",
      "D: Their Implementation Class UID:    1.2.276.0.7230010.3.0.3.6.6\n",
      "D: Their Implementation Version Name: OFFIS_DCMTK_366\n",
      "D: Application Context Name:    1.2.840.10008.3.1.1.1\n",
      "D: Calling Application Name:    BMEVIEWER       \n",
      "D: Called Application Name:     ANY-SCP         \n",
      "D: Their Max PDU Receive Size:  16384\n",
      "D: Presentation Contexts:\n",
      "D:   Context ID:        1 (Accepted)\n",
      "D:     Abstract Syntax: =Patient Root Query/Retrieve Information Model - GET\n",
      "D:     Accepted SCP/SCU Role: Default\n",
      "D:     Accepted Transfer Syntax: =Explicit VR Little Endian\n",
      "D:   Context ID:        3 (Accepted)\n",
      "D:     Abstract Syntax: =Enhanced CT Image Storage\n",
      "D:     Accepted SCP/SCU Role: SCP\n",
      "D:     Accepted Transfer Syntax: =Explicit VR Little Endian\n",
      "D: Accepted Extended Negotiation: None\n",
      "D: Accepted Asynchronous Operations Window Negotiation: None\n",
      "D: User Identity Negotiation Response: None\n",
      "D: ========================== END A-ASSOCIATE-AC PDU ==========================\n",
      "I: Association Accepted\n",
      "I: Sending Get Request: MsgID 1\n",
      "I: \n",
      "I: # Request Identifier\n",
      "I: (0008,0052) CS [SERIES]                                 # 1 QueryRetrieveLevel\n",
      "I: (0010,0020) LO [0106]                                   # 1 PatientID\n",
      "I: (0020,000D) UI [1.3.6.1.4.1.5962.1.2.106.1166562673.14401] # 1 StudyInstanceUID\n",
      "I: (0020,000E) UI [1.3.6.1.4.1.5962.1.3.106.1.1166562673.14401] # 1 SeriesInstanceUID\n",
      "I: \n",
      "D: ========================== OUTGOING DIMSE MESSAGE ==========================\n",
      "D: Message Type                  : C-GET RQ\n",
      "D: Message ID                    : 1\n",
      "D: Affected SOP Class UID        : Patient Root Query/Retrieve Information Model - GET\n",
      "D: Identifier                    : Present\n",
      "D: Priority                      : Low\n",
      "D: ============================ END DIMSE MESSAGE =============================\n",
      "D: pydicom.read_dataset() TransferSyntax=\"Little Endian Implicit\"\n",
      "I: Received Store Request\n",
      "D: ========================== INCOMING DIMSE MESSAGE ==========================\n",
      "D: Message Type                  : C-STORE RQ\n",
      "D: Presentation Context ID       : 3\n",
      "D: Message ID                    : 1\n",
      "D: Affected SOP Class UID        : Enhanced CT Image Storage\n",
      "D: Affected SOP Instance UID     : 1.3.6.1.4.1.5962.1.1.106.1.1.1166562673.14401\n",
      "D: Data Set                      : Present\n",
      "D: Priority                      : Medium\n",
      "D: ============================ END DIMSE MESSAGE =============================\n",
      "D: pydicom.read_dataset() TransferSyntax=\"Little Endian Explicit\"\n",
      "D: pydicom.read_dataset() TransferSyntax=\"Little Endian Implicit\"\n",
      "D: ========================== INCOMING DIMSE MESSAGE ==========================\n",
      "D: Message Type                  : C-GET RSP\n",
      "D: Presentation Context ID       : 1\n",
      "D: Message ID Being Responded To : 1\n",
      "D: Affected SOP Class UID        : Patient Root Query/Retrieve Information Model - GET\n",
      "D: Remaining Sub-operations      : 0\n",
      "D: Completed Sub-operations      : 1\n",
      "D: Failed Sub-operations         : 0\n",
      "D: Warning Sub-operations        : 0\n",
      "D: Identifier                    : None\n",
      "D: Status                        : 0xFF00\n",
      "D: ============================ END DIMSE MESSAGE =============================\n",
      "D: \n",
      "I: Get SCP Response: 1 - 0xFF00 (Pending)\n",
      "D: pydicom.read_dataset() TransferSyntax=\"Little Endian Implicit\"\n",
      "I: Sub-Operations Remaining: 0, Completed: 1, Failed: 0, Warning: 0\n",
      "D: ========================== INCOMING DIMSE MESSAGE ==========================\n",
      "D: Message Type                  : C-GET RSP\n",
      "D: Presentation Context ID       : 1\n",
      "D: Message ID Being Responded To : 1\n",
      "D: Affected SOP Class UID        : Patient Root Query/Retrieve Information Model - GET\n",
      "D: Completed Sub-operations      : 1\n",
      "D: Failed Sub-operations         : 0\n",
      "D: Warning Sub-operations        : 0\n",
      "D: Identifier                    : None\n",
      "D: Status                        : 0x0000\n",
      "D: ============================ END DIMSE MESSAGE =============================\n",
      "D: \n",
      "I: Get SCP Result: 0x0000 (Success)\n",
      "I: Sub-Operations Remaining: 0, Completed: 1, Failed: 0, Warning: 0\n",
      "I: Releasing Association\n"
     ]
    },
    {
     "name": "stdout",
     "output_type": "stream",
     "text": [
      "Writing to 1.3.6.1.4.1.5962.1.1.106.1.1.1166562673.14401\n",
      "C-GET query status: 0xff00\n",
      "C-GET query status: 0x0000\n"
     ]
    }
   ],
   "source": [
    "from pynetdicom import evt, build_role, debug_logger\n",
    "from pynetdicom.sop_class import CTImageStorage\n",
    "from pynetdicom.sop_class import PatientRootQueryRetrieveInformationModelGet\n",
    "\n",
    "debug_logger()\n",
    "\n",
    "# Implement the handler for evt.EVT_C_STORE\n",
    "def handle_store(event):\n",
    "    \"\"\"Handle a C-STORE request event.\"\"\"\n",
    "    ds = event.dataset\n",
    "    ds.file_meta = event.file_meta\n",
    "\n",
    "    print(\"Writing to \" + ds.SOPInstanceUID)\n",
    "    ## Save the dataset using the SOP Instance UID as the filename\n",
    "    # ds.save_as(ds.SOPInstanceUID, write_like_original=False)\n",
    "\n",
    "    # Return a 'Success' status\n",
    "    return 0x0000\n",
    "\n",
    "handlers = [(evt.EVT_C_STORE, handle_store)]\n",
    "\n",
    "# Initialise the Application Entity\n",
    "ae = AE(ae_title='BMEVIEWER')\n",
    "\n",
    "# Add the requested presentation contexts (QR SCU)\n",
    "ae.add_requested_context(PatientRootQueryRetrieveInformationModelGet)\n",
    "# Add the requested presentation context (Storage SCP)\n",
    "\n",
    "from pydicom.uid import UID\n",
    "enhancedCTImageStore = UID('1.2.840.10008.5.1.4.1.1.2.1')\n",
    "\n",
    "ae.add_requested_context(enhancedCTImageStore)\n",
    "\n",
    "# Create an SCP/SCU Role Selection Negotiation item for CT Image Storage\n",
    "role = build_role(enhancedCTImageStore, scp_role=True)\n",
    "\n",
    "# Create our Identifier (query) dataset\n",
    "# We need to supply a Unique Key Attribute for each level above the\n",
    "#   Query/Retrieve level\n",
    "ds = Dataset()\n",
    "ds.QueryRetrieveLevel = 'SERIES'\n",
    "# Unique key for PATIENT level\n",
    "ds.PatientID = '0106'\n",
    "# Unique key for STUDY level\n",
    "ds.StudyInstanceUID = '1.3.6.1.4.1.5962.1.2.106.1166562673.14401'\n",
    "# Unique key for SERIES level\n",
    "ds.SeriesInstanceUID = '1.3.6.1.4.1.5962.1.3.106.1.1166562673.14401'\n",
    "\n",
    "# Associate with peer AE \n",
    "assoc = ae.associate('bme-course.duckdns.org', 4242, ext_neg=[role], evt_handlers=handlers)\n",
    "\n",
    "if assoc.is_established:\n",
    "    # Use the C-GET service to send the identifier\n",
    "    responses = assoc.send_c_get(ds, PatientRootQueryRetrieveInformationModelGet)\n",
    "    for (status, identifier) in responses:\n",
    "        if status:\n",
    "            print('C-GET query status: 0x{0:04x}'.format(status.Status))\n",
    "        else:\n",
    "            print('Connection timed out, was aborted or received invalid response')\n",
    "\n",
    "    # Release the association\n",
    "    assoc.release()\n",
    "else:\n",
    "    print('Association rejected, aborted or never connected')\n"
   ]
  }
 ],
 "metadata": {
  "kernelspec": {
   "display_name": "Python 3",
   "language": "python",
   "name": "python3"
  },
  "language_info": {
   "codemirror_mode": {
    "name": "ipython",
    "version": 3
   },
   "file_extension": ".py",
   "mimetype": "text/x-python",
   "name": "python",
   "nbconvert_exporter": "python",
   "pygments_lexer": "ipython3",
   "version": "3.8.5"
  }
 },
 "nbformat": 4,
 "nbformat_minor": 4
}
