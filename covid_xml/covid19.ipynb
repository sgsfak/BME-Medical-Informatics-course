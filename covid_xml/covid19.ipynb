{
 "cells": [
  {
   "cell_type": "markdown",
   "metadata": {},
   "source": [
    "# COVID-19 notification rates (XML & JSON example)\n",
    "We are going to use the [data on 14-day notification rate of new COVID-19 cases and deaths](https://www.ecdc.europa.eu/en/publications-data/data-national-14-day-notification-rate-covid-19) from the European Centre for Disease Prevention and Control. The data set contains information on the 14-day notification rate of newly reported COVID-19 cases per 100 000 population and the 14-day notification rate of reported deaths per million population by day and country. Each row contains the corresponding data for a certain day and per country. "
   ]
  },
  {
   "cell_type": "markdown",
   "metadata": {},
   "source": [
    "We first import some libraries that will be used: the first one is for \"parsing\" the XML file and the second for downloading the data from a given URL:"
   ]
  },
  {
   "cell_type": "code",
   "execution_count": 91,
   "metadata": {},
   "outputs": [],
   "source": [
    "import xml.etree.ElementTree as et\n",
    "import urllib.request as url"
   ]
  },
  {
   "cell_type": "markdown",
   "metadata": {},
   "source": [
    "We download the XML data from the ECDC site (this takes some time, the file is around 15MB in size):"
   ]
  },
  {
   "cell_type": "code",
   "execution_count": 92,
   "metadata": {},
   "outputs": [],
   "source": [
    "xml_url = \"https://opendata.ecdc.europa.eu/covid19/nationalcasedeath/xml\"\n",
    "data = url.urlopen(xml_url).read()"
   ]
  },
  {
   "cell_type": "markdown",
   "metadata": {},
   "source": [
    "Parse the XML data using the [ElementTree XML library](https://docs.python.org/3/library/xml.etree.elementtree.html):"
   ]
  },
  {
   "cell_type": "code",
   "execution_count": 93,
   "metadata": {},
   "outputs": [],
   "source": [
    "root = et.fromstring(data)"
   ]
  },
  {
   "cell_type": "markdown",
   "metadata": {},
   "source": [
    "The XML dataset uses Namespaces so we set a mapping from namespace prefix to the exact namespace URI:"
   ]
  },
  {
   "cell_type": "code",
   "execution_count": 94,
   "metadata": {},
   "outputs": [],
   "source": [
    "ns = {'fme':\"http://www.safe.com/xml/xmltables\"}"
   ]
  },
  {
   "cell_type": "markdown",
   "metadata": {},
   "source": [
    "And now we can extract the cases and deaths for Greece. The format of the XML conforms to the following:\n",
    "\n",
    "```\n",
    "<fme:Sheet1>\n",
    "\t<fme:country>Greece</fme:country>\n",
    "\t<fme:country_code>GRC</fme:country_code>\n",
    "\t<fme:continent>Europe</fme:continent>\n",
    "\t<fme:population>10718565</fme:population>\n",
    "\t<fme:indicator>cases</fme:indicator>\n",
    "\t<fme:weekly_count>0</fme:weekly_count>\n",
    "\t<fme:year_week>2020-06</fme:year_week>\n",
    "\t<fme:rate_14_day>0</fme:rate_14_day>\n",
    "\t<fme:cumulative_count>0</fme:cumulative_count>\n",
    "\t<fme:source>Epidemic intelligence, national weekly data</fme:source>\n",
    "</fme:Sheet1>\n",
    "```\n",
    "\n",
    "According to the [\"Data dictionary\"](https://www.ecdc.europa.eu/sites/default/files/documents/2021-01-13_Variable_Dictionary_and_Disclaimer_national_weekly_data.pdf) the field `rate_14_day` contains the 14-day notification rate of reported COVID-19 cases per 100 000 population OR 14-day notification rate of reported deaths per 1 000 000 population. The field `indicator` differentiates between the cases and the deaths, while the `country` is the name of the country. "
   ]
  },
  {
   "cell_type": "markdown",
   "metadata": {},
   "source": [
    "We can use the [`findall`](https://docs.python.org/3/library/xml.etree.elementtree.html#xml.etree.ElementTree.Element.findall) method with [XPATH expressions](https://docs.python.org/3/library/xml.etree.elementtree.html#elementtree-xpath) to search for all `Sheet1` elements starting from the `root`. The XPATH expression `.//fme:Sheet1` means:\n",
    "* Starting from the current element: `.`\n",
    "* Going to any depth inside the current element: `//`\n",
    "* Finding the `Sheet1` element of the namespace with prefix `fme`: `fme:Sheet1` "
   ]
  },
  {
   "cell_type": "code",
   "execution_count": 95,
   "metadata": {},
   "outputs": [],
   "source": [
    "all_sheets = root.findall(\".//fme:Sheet1\", ns)"
   ]
  },
  {
   "cell_type": "markdown",
   "metadata": {},
   "source": [
    "Let's assume that we are interested only in the statistics for Greece. Therefore, we can use Python's [\"list comprehensions\"](https://docs.python.org/3/tutorial/datastructures.html#list-comprehensions) to filter and keep only the \"sheets\" that refer to Greece. The following code reads as follows:\n",
    "   \n",
    "> For each element in `all_sheets` find its child element with tag `country` in the `fme` namespace and take its text content. If this text is \"Greece\", append the child element to the list."
   ]
  },
  {
   "cell_type": "code",
   "execution_count": 96,
   "metadata": {},
   "outputs": [],
   "source": [
    "greek_sheets = [i for i in all_sheets if i.find(\"fme:country\", ns).text == \"Greece\"]"
   ]
  },
  {
   "cell_type": "markdown",
   "metadata": {},
   "source": [
    "We can now retrieve the numbers from these sheets. Some of the sheets do not contain the `rate_14_day` element so in the code below we filter out these sheets and keep the rest in the `valid_sheets` list. From this list of elements we separate the \"deaths\" from the \"cases\" element based on the content of the `indicator` element and create the `deaths_sheets` and `cases_sheets` lists. Finally, for each element in these lists we select the `rate_14_day` field and transform it to a float number:"
   ]
  },
  {
   "cell_type": "code",
   "execution_count": 97,
   "metadata": {},
   "outputs": [],
   "source": [
    "valid_sheets = [i for i in greek_sheets if i.find(\"fme:rate_14_day\", ns) is not None]\n",
    "cases_sheets = [i for i in valid_sheets if i.find(\"fme:indicator\", ns).text == 'cases']\n",
    "deaths_sheets = [i for i in valid_sheets if i.find(\"fme:indicator\", ns).text == 'deaths']\n",
    "cases_rate = [float(i.find(\"fme:rate_14_day\", ns).text) for i in cases_sheets]\n",
    "deaths_rate = [float(i.find(\"fme:rate_14_day\", ns).text) for i in deaths_sheets]"
   ]
  },
  {
   "cell_type": "markdown",
   "metadata": {},
   "source": [
    "Finally, we can plot these numbers in a common plot using another library of Python:"
   ]
  },
  {
   "cell_type": "code",
   "execution_count": 98,
   "metadata": {},
   "outputs": [
    {
     "data": {
      "text/plain": [
       "<matplotlib.legend.Legend at 0x12b594bb0>"
      ]
     },
     "execution_count": 98,
     "metadata": {},
     "output_type": "execute_result"
    },
    {
     "data": {
      "image/png": "[encoded data removed]",
      "text/plain": [
       "<Figure size 432x288 with 1 Axes>"
      ]
     },
     "metadata": {
      "needs_background": "light"
     },
     "output_type": "display_data"
    }
   ],
   "source": [
    "import matplotlib.pyplot as plt\n",
    "\n",
    "plt.plot(cases_rate, label=\"cases per 100k\")\n",
    "plt.plot(deaths_rate, label=\"deaths per 1m\")\n",
    "plt.legend()"
   ]
  },
  {
   "cell_type": "markdown",
   "metadata": {},
   "source": [
    "## Using the JSON data\n",
    "\n",
    "The same thing can be done if instead of XML we download the JSON formatted data from the same ECDC site. The format is now easier to decipher: the content is a JSON list with JSON Objects containing the data that were represented as `Sheet1` elements in the XML format, as shown below\n",
    "```\n",
    "  [\n",
    "   ...\n",
    "  {\n",
    "\t\t\"country\" : \"Greece\",\n",
    "\t\t\"country_code\" : \"GRC\",\n",
    "\t\t\"continent\" : \"Europe\",\n",
    "\t\t\"population\" : 10718565,\n",
    "\t\t\"indicator\" : \"cases\",\n",
    "\t\t\"weekly_count\" : 66,\n",
    "\t\t\"year_week\" : \"2020-10\",\n",
    "\t\t\"rate_14_day\" : \"0.681061317443147\",\n",
    "\t\t\"cumulative_count\" : 73,\n",
    "\t\t\"source\" : \"Epidemic intelligence, national weekly data\"\n",
    "\t}\n",
    "   ...\n",
    "  ]\n",
    " ```\n",
    "\n",
    "As you can see the format is simpler (no namespaces!) and indeed there are savings in file size (the JSON file is around 8 MBs). Also there is a simpler mapping between the format and the Python data structures: A JSON array is represented as a Python list and a JSON Object is represented as a Python Dictionary. \n",
    "\n",
    "We start by importing the `json` built-in library of Python that allows us to read the JSON data:"
   ]
  },
  {
   "cell_type": "code",
   "execution_count": 99,
   "metadata": {},
   "outputs": [],
   "source": [
    "import json"
   ]
  },
  {
   "cell_type": "markdown",
   "metadata": {},
   "source": [
    "We load the data from JSON URL as follows:"
   ]
  },
  {
   "cell_type": "code",
   "execution_count": 100,
   "metadata": {},
   "outputs": [],
   "source": [
    "json_data = json.load(url.urlopen(\"https://opendata.ecdc.europa.eu/covid19/nationalcasedeath/json\"))"
   ]
  },
  {
   "cell_type": "code",
   "execution_count": 101,
   "metadata": {},
   "outputs": [],
   "source": [
    "valid_obj = [i for i in json_data if i[\"country\"] == \"Greece\" and \"rate_14_day\" in i]\n",
    "cases_obj = [i for i in valid_obj if i[\"indicator\"] == 'cases']\n",
    "deaths_obj = [i for i in valid_obj if i[\"indicator\"]  == 'deaths']\n",
    "cases_rate = [float(i[\"rate_14_day\"]) for i in cases_obj]\n",
    "deaths_rate = [float(i[\"rate_14_day\"]) for i in deaths_obj]"
   ]
  },
  {
   "cell_type": "markdown",
   "metadata": {},
   "source": [
    "Again, we plot the rates in the same way as above and the result should be identical:"
   ]
  },
  {
   "cell_type": "code",
   "execution_count": 102,
   "metadata": {},
   "outputs": [
    {
     "data": {
      "text/plain": [
       "<matplotlib.legend.Legend at 0x11f4bc970>"
      ]
     },
     "execution_count": 102,
     "metadata": {},
     "output_type": "execute_result"
    },
    {
     "data": {
      "image/png": "[encoded data removed]",
      "text/plain": [
       "<Figure size 432x288 with 1 Axes>"
      ]
     },
     "metadata": {
      "needs_background": "light"
     },
     "output_type": "display_data"
    }
   ],
   "source": [
    "plt.plot(cases_rate, label=\"cases per 100k\")\n",
    "plt.plot(deaths_rate, label=\"deaths per 1m\")\n",
    "plt.legend()"
   ]
  }
 ],
 "metadata": {
  "kernelspec": {
   "display_name": "Python 3",
   "language": "python",
   "name": "python3"
  },
  "language_info": {
   "codemirror_mode": {
    "name": "ipython",
    "version": 3
   },
   "file_extension": ".py",
   "mimetype": "text/x-python",
   "name": "python",
   "nbconvert_exporter": "python",
   "pygments_lexer": "ipython3",
   "version": "3.8.5"
  }
 },
 "nbformat": 4,
 "nbformat_minor": 4
}
